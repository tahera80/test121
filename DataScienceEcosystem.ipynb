{
 "cells": [
  {
   "cell_type": "markdown",
   "id": "57a056cd",
   "metadata": {},
   "source": [
    "# Data Science Tools and Ecosystem"
   ]
  },
  {
   "cell_type": "markdown",
   "id": "453904d0",
   "metadata": {},
   "source": [
    "__*In this notebook, Data Science Tools and Ecosystem are summarized.*__"
   ]
  },
  {
   "cell_type": "markdown",
   "id": "f2b3542b",
   "metadata": {},
   "source": [
    "**Objectives**\n",
    "\n",
    "- Popular Languages in Data Science\n",
    "- Commonly used libraries in Data Science\n",
    "- Data Science tools\n",
    "- Evaluating Arithmetic expression in Python"
   ]
  },
  {
   "cell_type": "markdown",
   "id": "43df5b36",
   "metadata": {},
   "source": [
    "`Some of the popular languages that Data Scientists use are:`\n",
    "\n",
    "1. Python\n",
    "2. Scala\n",
    "3. R\n",
    "4. Julia"
   ]
  },
  {
   "cell_type": "markdown",
   "id": "a2d7c111",
   "metadata": {},
   "source": [
    "`Some of the commonly used libraries used by Data Scientists include:`\n",
    "\n",
    "1. PyTorch\n",
    "2. SciPy\n",
    "3. Numpy\n",
    "4. Matplotlib\n",
    "5. Ggplot2"
   ]
  },
  {
   "cell_type": "markdown",
   "id": "c2b03aa9",
   "metadata": {},
   "source": [
    "|Data Science Tools     |\n",
    "|-----------------------|\n",
    "|Apache Spark.          |\n",
    "|Knime.                 |\n",
    "|TensorFlow             |"
   ]
  },
  {
   "cell_type": "markdown",
   "id": "9482672d",
   "metadata": {},
   "source": [
    "### Below are a few examples of evaluating arithmetic expressions in Python"
   ]
  },
  {
   "cell_type": "code",
   "execution_count": 7,
   "id": "015aca2b",
   "metadata": {},
   "outputs": [
    {
     "data": {
      "text/plain": [
       "17"
      ]
     },
     "execution_count": 7,
     "metadata": {},
     "output_type": "execute_result"
    }
   ],
   "source": [
    "# This a simple arithmetic expression to mutiply then add integers\n",
    "\n",
    "(3*4)+5"
   ]
  },
  {
   "cell_type": "code",
   "execution_count": 8,
   "id": "6bb10ca1",
   "metadata": {},
   "outputs": [
    {
     "data": {
      "text/plain": [
       "3.3333333333333335"
      ]
     },
     "execution_count": 8,
     "metadata": {},
     "output_type": "execute_result"
    }
   ],
   "source": [
    "# This will convert 200 minutes to hours by diving by 60\n",
    "\n",
    "200/60"
   ]
  },
  {
   "cell_type": "markdown",
   "id": "72e74e7f",
   "metadata": {},
   "source": [
    "## Author\n",
    "\n",
    "`Tahera Sohrab Irani`"
   ]
  },
  {
   "cell_type": "code",
   "execution_count": null,
   "id": "09c818d7",
   "metadata": {},
   "outputs": [],
   "source": []
  }
 ],
 "metadata": {
  "kernelspec": {
   "display_name": "Python 3 (ipykernel)",
   "language": "python",
   "name": "python3"
  },
  "language_info": {
   "codemirror_mode": {
    "name": "ipython",
    "version": 3
   },
   "file_extension": ".py",
   "mimetype": "text/x-python",
   "name": "python",
   "nbconvert_exporter": "python",
   "pygments_lexer": "ipython3",
   "version": "3.10.9"
  }
 },
 "nbformat": 4,
 "nbformat_minor": 5
}
